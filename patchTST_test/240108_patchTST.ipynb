{
 "cells": [
  {
   "cell_type": "code",
   "execution_count": 82,
   "metadata": {},
   "outputs": [],
   "source": [
    "import numpy as np\n",
    "import pandas as pd\n",
    "import matplotlib.pyplot as plt\n",
    "\n",
    "from sklearn.preprocessing import MinMaxScaler\n",
    "\n",
    "import torch\n",
    "import torch.nn as nn\n",
    "import torch.nn.functional as F\n",
    "\n",
    "from tqdm.auto import trange"
   ]
  },
  {
   "cell_type": "code",
   "execution_count": 62,
   "metadata": {},
   "outputs": [],
   "source": [
    "df = pd.read_csv(\"../../../../estsoft/data/train.csv\")\n",
    "def fill_null(df:pd.DataFrame, time_before:list, time:list, time_after:list):\n",
    "    df_fill = pd.DataFrame()\n",
    "    for i in range(len(time_before)):\n",
    "        df_null = df[df['datetime']==time[i]]\n",
    "        df_concat = pd.concat([df[df['datetime']==time_before[i]], df[df['datetime']==time_after[i]]])\n",
    "\n",
    "        # null값의 앞뒤 시간의 평균값 계산 및 저장\n",
    "        ab_mean = pd.DataFrame(df_concat.groupby(['prediction_unit_id'])['target'].sum()/2).reset_index()\n",
    "        df_merge = pd.merge(df_null, ab_mean, how='left', on='prediction_unit_id').drop(columns='target_x').rename(columns={'target_y':'target'})\n",
    "        df_fill = pd.concat([df_fill, df_merge])\n",
    "\n",
    "        # null값이 있는 행 drop\n",
    "        df = df.drop(df_null.index)\n",
    "\n",
    "    df = pd.concat([df, df_fill]).reset_index(drop=True).sort_values(by='datetime')\n",
    "    return df\n",
    "df_prod =df[df['is_consumption']==0]\n",
    "df_cons = df[df['is_consumption']==1]\n",
    "\n",
    "time_before = ['2022-10-30 02:00:00', '2022-03-27 02:00:00', '2023-03-26 02:00:00', '2021-10-31 02:00:00']\n",
    "time = ['2022-10-30 03:00:00', '2022-03-27 03:00:00', '2023-03-26 03:00:00', '2021-10-31 03:00:00']\n",
    "time_after = ['2022-10-30 04:00:00', '2022-03-27 04:00:00', '2023-03-26 04:00:00', '2021-10-31 04:00:00']\n",
    "\n",
    "df_prod = fill_null(df_prod, time_before, time, time_after)\n",
    "df_cons = fill_null(df_cons, time_before, time, time_after)"
   ]
  },
  {
   "cell_type": "code",
   "execution_count": 63,
   "metadata": {},
   "outputs": [
    {
     "name": "stdout",
     "output_type": "stream",
     "text": [
      "<class 'pandas.core.frame.DataFrame'>\n",
      "Index: 1009176 entries, 0 to 1008853\n",
      "Data columns (total 9 columns):\n",
      " #   Column              Non-Null Count    Dtype         \n",
      "---  ------              --------------    -----         \n",
      " 0   county              1009176 non-null  int64         \n",
      " 1   is_business         1009176 non-null  int64         \n",
      " 2   product_type        1009176 non-null  int64         \n",
      " 3   target              1009176 non-null  float64       \n",
      " 4   is_consumption      1009176 non-null  int64         \n",
      " 5   datetime            1009176 non-null  datetime64[ns]\n",
      " 6   data_block_id       1009176 non-null  int64         \n",
      " 7   row_id              1009176 non-null  int64         \n",
      " 8   prediction_unit_id  1009176 non-null  int64         \n",
      "dtypes: datetime64[ns](1), float64(1), int64(7)\n",
      "memory usage: 77.0 MB\n",
      "None\n",
      "<class 'pandas.core.frame.DataFrame'>\n",
      "Index: 1009176 entries, 0 to 1008853\n",
      "Data columns (total 9 columns):\n",
      " #   Column              Non-Null Count    Dtype         \n",
      "---  ------              --------------    -----         \n",
      " 0   county              1009176 non-null  int64         \n",
      " 1   is_business         1009176 non-null  int64         \n",
      " 2   product_type        1009176 non-null  int64         \n",
      " 3   target              1009176 non-null  float64       \n",
      " 4   is_consumption      1009176 non-null  int64         \n",
      " 5   datetime            1009176 non-null  datetime64[ns]\n",
      " 6   data_block_id       1009176 non-null  int64         \n",
      " 7   row_id              1009176 non-null  int64         \n",
      " 8   prediction_unit_id  1009176 non-null  int64         \n",
      "dtypes: datetime64[ns](1), float64(1), int64(7)\n",
      "memory usage: 77.0 MB\n",
      "None\n"
     ]
    }
   ],
   "source": [
    "df_prod['datetime'] = pd.to_datetime(df_prod['datetime'])\n",
    "print(df_prod.info())\n",
    "df_prod.set_index('datetime', drop=True, inplace=True) \n",
    "\n",
    "df_cons['datetime'] = pd.to_datetime(df_cons['datetime'])\n",
    "print(df_cons.info())\n",
    "df_cons.set_index('datetime', drop=True, inplace=True) "
   ]
  },
  {
   "cell_type": "code",
   "execution_count": 64,
   "metadata": {},
   "outputs": [],
   "source": [
    "# f\"df_prod{n}\"\n",
    "df_prod_list = []\n",
    "for id in df_prod['prediction_unit_id'].unique():\n",
    "    exec(f\"df_prod{id} = df_prod[df_prod['prediction_unit_id']=={id}]\")\n",
    "    exec(f\"df_prod_list.append('df_prod{id}')\")\n",
    "\n",
    "# f\"df_cons{n}\"\n",
    "df_cons_list = []\n",
    "for id in df_cons['prediction_unit_id'].unique():\n",
    "    exec(f\"df_cons{id} = df_cons[df_cons['prediction_unit_id']=={id}]\")\n",
    "    exec(f\"df_cons_list.append('df_cons{id}')\")"
   ]
  },
  {
   "cell_type": "markdown",
   "metadata": {},
   "source": [
    "# PatchTST"
   ]
  },
  {
   "cell_type": "code",
   "execution_count": 65,
   "metadata": {},
   "outputs": [],
   "source": [
    "class PatchTSDataset(torch.utils.data.Dataset):\n",
    "  def __init__(self, ts:np.array, patch_size:int=4, n_token:int=6):\n",
    "    self.patch_size = patch_size # 4\n",
    "    self.n_patch = 4\n",
    "    self.n_token = n_token # 6\n",
    "    self.window_size = int(patch_size * self.n_patch * n_token / 2) # 4*4*6 = 96\n",
    "    self.forecast_size = patch_size # 4\n",
    "    self.data = ts\n",
    "\n",
    "  def __len__(self):\n",
    "    return len(self.data) - self.window_size - self.forecast_size + 1 # len 접근시 맨 마지막 데이터 출력해줌\n",
    "\n",
    "  def __getitem__(self, i): # index 접근시 \"\n",
    "    look_back = self.data[i:(i+self.window_size)] # i:i+96\n",
    "    look_back = np.concatenate([look_back] + [look_back[-self.patch_size:]] * int(self.n_patch / 2)) # i:i+96 + -4: * 2\n",
    "    x = np.array([look_back[i*int(self.patch_size*self.n_patch/2):(i+2)*int(self.patch_size*self.n_patch/2)] for i in range(self.n_token)])\n",
    "    # [i*int(4*4/2):(i+2)*4*4/2] = [i*int(8):(i+2)*int(8)] for i in range(6)\n",
    "\n",
    "    y = self.data[(i+self.window_size):(i+self.window_size+self.forecast_size)] # i+96:i+96+4 = i+96:i+100\n",
    "    return x, y"
   ]
  },
  {
   "cell_type": "code",
   "execution_count": 66,
   "metadata": {},
   "outputs": [
    {
     "data": {
      "image/png": "[encoded data removed]",
      "text/plain": [
       "<Figure size 1200x500 with 1 Axes>"
      ]
     },
     "metadata": {},
     "output_type": "display_data"
    }
   ],
   "source": [
    "patch_size, n_patch, n_token = 4, 4, 6\n",
    "window_size = int(patch_size * n_patch * n_token / 2)\n",
    "tst_size = 96\n",
    "trn, tst = df_prod0[:-tst_size].target, df_prod0[-tst_size:].target\n",
    "ax = trn.plot(title=\"id0, production\", label='trn', figsize=(12,5))\n",
    "tst.plot(label='tst', ax=ax)\n",
    "plt.legend()\n",
    "plt.show()"
   ]
  },
  {
   "cell_type": "code",
   "execution_count": 67,
   "metadata": {},
   "outputs": [
    {
     "data": {
      "text/plain": [
       "datetime\n",
       "2021-09-01 00:00:00      0.713\n",
       "2021-09-01 01:00:00      1.132\n",
       "2021-09-01 02:00:00      0.490\n",
       "2021-09-01 03:00:00      0.496\n",
       "2021-09-01 04:00:00      0.149\n",
       "                        ...   \n",
       "2023-05-27 19:00:00    466.393\n",
       "2023-05-27 20:00:00    149.916\n",
       "2023-05-27 21:00:00     21.362\n",
       "2023-05-27 22:00:00      3.359\n",
       "2023-05-27 23:00:00      2.798\n",
       "Name: target, Length: 15216, dtype: float64"
      ]
     },
     "execution_count": 67,
     "metadata": {},
     "output_type": "execute_result"
    }
   ],
   "source": [
    "trn"
   ]
  },
  {
   "cell_type": "code",
   "execution_count": 68,
   "metadata": {},
   "outputs": [
    {
     "data": {
      "text/plain": [
       "datetime\n",
       "2023-05-28 00:00:00      3.401\n",
       "2023-05-28 01:00:00      3.039\n",
       "2023-05-28 02:00:00      1.886\n",
       "2023-05-28 03:00:00      1.347\n",
       "2023-05-28 04:00:00      3.016\n",
       "                        ...   \n",
       "2023-05-31 19:00:00    439.610\n",
       "2023-05-31 20:00:00    120.856\n",
       "2023-05-31 21:00:00     22.428\n",
       "2023-05-31 22:00:00      5.086\n",
       "2023-05-31 23:00:00      2.921\n",
       "Name: target, Length: 96, dtype: float64"
      ]
     },
     "execution_count": 68,
     "metadata": {},
     "output_type": "execute_result"
    }
   ],
   "source": [
    "tst"
   ]
  },
  {
   "cell_type": "code",
   "execution_count": 69,
   "metadata": {},
   "outputs": [],
   "source": [
    "patch_size, n_patch, n_token = 4, 4, 6\n",
    "window_size = int(patch_size * n_patch * n_token / 2)\n",
    "\n",
    "scaler = MinMaxScaler()\n",
    "trn_scaled = scaler.fit_transform(df_prod0[:-tst_size].to_numpy(dtype=np.float32)).flatten()\n",
    "tst_scaled = scaler.transform(df_prod0[-tst_size-window_size:].to_numpy(dtype=np.float32)).flatten()\n",
    "\n",
    "trn_ds = PatchTSDataset(trn_scaled, 4, 6)\n",
    "tst_ds = PatchTSDataset(tst_scaled, 4, 6)\n",
    "\n",
    "trn_dl = torch.utils.data.DataLoader(trn_ds, batch_size=32, shuffle=True)\n",
    "tst_dl = torch.utils.data.DataLoader(tst_ds, batch_size=tst_size, shuffle=False)"
   ]
  },
  {
   "cell_type": "code",
   "execution_count": 70,
   "metadata": {},
   "outputs": [
    {
     "data": {
      "text/html": [
       "<div>\n",
       "<style scoped>\n",
       "    .dataframe tbody tr th:only-of-type {\n",
       "        vertical-align: middle;\n",
       "    }\n",
       "\n",
       "    .dataframe tbody tr th {\n",
       "        vertical-align: top;\n",
       "    }\n",
       "\n",
       "    .dataframe thead th {\n",
       "        text-align: right;\n",
       "    }\n",
       "</style>\n",
       "<table border=\"1\" class=\"dataframe\">\n",
       "  <thead>\n",
       "    <tr style=\"text-align: right;\">\n",
       "      <th></th>\n",
       "      <th>county</th>\n",
       "      <th>is_business</th>\n",
       "      <th>product_type</th>\n",
       "      <th>target</th>\n",
       "      <th>is_consumption</th>\n",
       "      <th>data_block_id</th>\n",
       "      <th>row_id</th>\n",
       "      <th>prediction_unit_id</th>\n",
       "      <th>rolling_mean</th>\n",
       "    </tr>\n",
       "    <tr>\n",
       "      <th>datetime</th>\n",
       "      <th></th>\n",
       "      <th></th>\n",
       "      <th></th>\n",
       "      <th></th>\n",
       "      <th></th>\n",
       "      <th></th>\n",
       "      <th></th>\n",
       "      <th></th>\n",
       "      <th></th>\n",
       "    </tr>\n",
       "  </thead>\n",
       "  <tbody>\n",
       "    <tr>\n",
       "      <th>2021-09-01 00:00:00</th>\n",
       "      <td>0</td>\n",
       "      <td>0</td>\n",
       "      <td>1</td>\n",
       "      <td>0.713</td>\n",
       "      <td>0</td>\n",
       "      <td>0</td>\n",
       "      <td>0</td>\n",
       "      <td>0</td>\n",
       "      <td>NaN</td>\n",
       "    </tr>\n",
       "    <tr>\n",
       "      <th>2021-09-01 00:00:00</th>\n",
       "      <td>8</td>\n",
       "      <td>1</td>\n",
       "      <td>3</td>\n",
       "      <td>0.000</td>\n",
       "      <td>0</td>\n",
       "      <td>0</td>\n",
       "      <td>66</td>\n",
       "      <td>33</td>\n",
       "      <td>NaN</td>\n",
       "    </tr>\n",
       "    <tr>\n",
       "      <th>2021-09-01 00:00:00</th>\n",
       "      <td>9</td>\n",
       "      <td>0</td>\n",
       "      <td>1</td>\n",
       "      <td>0.000</td>\n",
       "      <td>0</td>\n",
       "      <td>0</td>\n",
       "      <td>68</td>\n",
       "      <td>34</td>\n",
       "      <td>NaN</td>\n",
       "    </tr>\n",
       "    <tr>\n",
       "      <th>2021-09-01 00:00:00</th>\n",
       "      <td>9</td>\n",
       "      <td>0</td>\n",
       "      <td>3</td>\n",
       "      <td>0.089</td>\n",
       "      <td>0</td>\n",
       "      <td>0</td>\n",
       "      <td>70</td>\n",
       "      <td>35</td>\n",
       "      <td>NaN</td>\n",
       "    </tr>\n",
       "    <tr>\n",
       "      <th>2021-09-01 00:00:00</th>\n",
       "      <td>9</td>\n",
       "      <td>1</td>\n",
       "      <td>1</td>\n",
       "      <td>0.000</td>\n",
       "      <td>0</td>\n",
       "      <td>0</td>\n",
       "      <td>72</td>\n",
       "      <td>36</td>\n",
       "      <td>NaN</td>\n",
       "    </tr>\n",
       "    <tr>\n",
       "      <th>...</th>\n",
       "      <td>...</td>\n",
       "      <td>...</td>\n",
       "      <td>...</td>\n",
       "      <td>...</td>\n",
       "      <td>...</td>\n",
       "      <td>...</td>\n",
       "      <td>...</td>\n",
       "      <td>...</td>\n",
       "      <td>...</td>\n",
       "    </tr>\n",
       "    <tr>\n",
       "      <th>2023-05-31 23:00:00</th>\n",
       "      <td>7</td>\n",
       "      <td>1</td>\n",
       "      <td>1</td>\n",
       "      <td>0.000</td>\n",
       "      <td>0</td>\n",
       "      <td>637</td>\n",
       "      <td>2018286</td>\n",
       "      <td>29</td>\n",
       "      <td>0.930636</td>\n",
       "    </tr>\n",
       "    <tr>\n",
       "      <th>2023-05-31 23:00:00</th>\n",
       "      <td>7</td>\n",
       "      <td>1</td>\n",
       "      <td>3</td>\n",
       "      <td>1.450</td>\n",
       "      <td>0</td>\n",
       "      <td>637</td>\n",
       "      <td>2018288</td>\n",
       "      <td>30</td>\n",
       "      <td>1.058909</td>\n",
       "    </tr>\n",
       "    <tr>\n",
       "      <th>2023-05-31 23:00:00</th>\n",
       "      <td>8</td>\n",
       "      <td>0</td>\n",
       "      <td>1</td>\n",
       "      <td>0.108</td>\n",
       "      <td>0</td>\n",
       "      <td>637</td>\n",
       "      <td>2018290</td>\n",
       "      <td>31</td>\n",
       "      <td>1.004273</td>\n",
       "    </tr>\n",
       "    <tr>\n",
       "      <th>2023-05-31 23:00:00</th>\n",
       "      <td>4</td>\n",
       "      <td>1</td>\n",
       "      <td>0</td>\n",
       "      <td>0.000</td>\n",
       "      <td>0</td>\n",
       "      <td>637</td>\n",
       "      <td>2018262</td>\n",
       "      <td>17</td>\n",
       "      <td>0.955182</td>\n",
       "    </tr>\n",
       "    <tr>\n",
       "      <th>2023-05-31 23:00:00</th>\n",
       "      <td>0</td>\n",
       "      <td>1</td>\n",
       "      <td>3</td>\n",
       "      <td>27.844</td>\n",
       "      <td>0</td>\n",
       "      <td>637</td>\n",
       "      <td>2018234</td>\n",
       "      <td>5</td>\n",
       "      <td>3.486455</td>\n",
       "    </tr>\n",
       "  </tbody>\n",
       "</table>\n",
       "<p>1009176 rows × 9 columns</p>\n",
       "</div>"
      ],
      "text/plain": [
       "                     county  is_business  product_type  target  \\\n",
       "datetime                                                         \n",
       "2021-09-01 00:00:00       0            0             1   0.713   \n",
       "2021-09-01 00:00:00       8            1             3   0.000   \n",
       "2021-09-01 00:00:00       9            0             1   0.000   \n",
       "2021-09-01 00:00:00       9            0             3   0.089   \n",
       "2021-09-01 00:00:00       9            1             1   0.000   \n",
       "...                     ...          ...           ...     ...   \n",
       "2023-05-31 23:00:00       7            1             1   0.000   \n",
       "2023-05-31 23:00:00       7            1             3   1.450   \n",
       "2023-05-31 23:00:00       8            0             1   0.108   \n",
       "2023-05-31 23:00:00       4            1             0   0.000   \n",
       "2023-05-31 23:00:00       0            1             3  27.844   \n",
       "\n",
       "                     is_consumption  data_block_id   row_id  \\\n",
       "datetime                                                      \n",
       "2021-09-01 00:00:00               0              0        0   \n",
       "2021-09-01 00:00:00               0              0       66   \n",
       "2021-09-01 00:00:00               0              0       68   \n",
       "2021-09-01 00:00:00               0              0       70   \n",
       "2021-09-01 00:00:00               0              0       72   \n",
       "...                             ...            ...      ...   \n",
       "2023-05-31 23:00:00               0            637  2018286   \n",
       "2023-05-31 23:00:00               0            637  2018288   \n",
       "2023-05-31 23:00:00               0            637  2018290   \n",
       "2023-05-31 23:00:00               0            637  2018262   \n",
       "2023-05-31 23:00:00               0            637  2018234   \n",
       "\n",
       "                     prediction_unit_id  rolling_mean  \n",
       "datetime                                               \n",
       "2021-09-01 00:00:00                   0           NaN  \n",
       "2021-09-01 00:00:00                  33           NaN  \n",
       "2021-09-01 00:00:00                  34           NaN  \n",
       "2021-09-01 00:00:00                  35           NaN  \n",
       "2021-09-01 00:00:00                  36           NaN  \n",
       "...                                 ...           ...  \n",
       "2023-05-31 23:00:00                  29      0.930636  \n",
       "2023-05-31 23:00:00                  30      1.058909  \n",
       "2023-05-31 23:00:00                  31      1.004273  \n",
       "2023-05-31 23:00:00                  17      0.955182  \n",
       "2023-05-31 23:00:00                   5      3.486455  \n",
       "\n",
       "[1009176 rows x 9 columns]"
      ]
     },
     "execution_count": 70,
     "metadata": {},
     "output_type": "execute_result"
    }
   ],
   "source": [
    "m_data = df_prod.copy()\n",
    "m_data['rolling_mean'] = df_prod.target.rolling(11).mean()\n",
    "m_data"
   ]
  },
  {
   "cell_type": "code",
   "execution_count": 71,
   "metadata": {},
   "outputs": [],
   "source": [
    "m_data.dropna(inplace=True)"
   ]
  },
  {
   "cell_type": "code",
   "execution_count": 72,
   "metadata": {},
   "outputs": [],
   "source": [
    "scaler2 = MinMaxScaler()\n",
    "\n",
    "trn2_scaled = scaler2.fit_transform(m_data['rolling_mean'][:-tst_size].to_numpy(dtype=np.float32).reshape(-1,1)).flatten()\n",
    "\n",
    "trn2_ds = PatchTSDataset(trn2_scaled, 4, 6)\n",
    "\n",
    "trn_ds = torch.utils.data.ConcatDataset([trn_ds, trn2_ds])\n",
    "\n",
    "trn_dl = torch.utils.data.DataLoader(trn_ds, batch_size=32, shuffle=True)"
   ]
  },
  {
   "cell_type": "code",
   "execution_count": 73,
   "metadata": {},
   "outputs": [
    {
     "data": {
      "text/plain": [
       "array([2.1147902e-05, 2.8042837e-06, 2.8042837e-06, ..., 1.7371122e-04,\n",
       "       7.7393086e-04, 7.7822735e-04], dtype=float32)"
      ]
     },
     "execution_count": 73,
     "metadata": {},
     "output_type": "execute_result"
    }
   ],
   "source": [
    "trn2_scaled"
   ]
  },
  {
   "cell_type": "code",
   "execution_count": 74,
   "metadata": {},
   "outputs": [
    {
     "data": {
      "text/plain": [
       "(torch.Size([32, 6, 16]), torch.Size([32, 4]))"
      ]
     },
     "execution_count": 74,
     "metadata": {},
     "output_type": "execute_result"
    }
   ],
   "source": [
    "x, y = next(iter(trn_dl))\n",
    "x.shape, y.shape # batch_size, token_size, get_item시 데이터 하나의 길이 # batch_size, 예측할 데이터 수"
   ]
  },
  {
   "cell_type": "code",
   "execution_count": 75,
   "metadata": {},
   "outputs": [],
   "source": [
    "class PatchTST(nn.Module):\n",
    "  def __init__(self, n_token, input_dim, model_dim, num_heads, num_layers, output_dim):\n",
    "    super(PatchTST, self).__init__()\n",
    "    self.patch_embedding = nn.Linear(input_dim, model_dim)    # Input Embedding\n",
    "    self._pos = torch.nn.Parameter(torch.randn(1,1,model_dim))  # Positional Embedding 데이터에 순서의 느낌을 줌 # 메타데이터를 뽑아 학습이 잘 되는 메타데이터를 만들어 가공\n",
    "\n",
    "    encoder_layers = nn.TransformerEncoderLayer(d_model=model_dim, nhead=num_heads, batch_first=True) # 모델이 학습할 수 있게 데이터를 실수화시킴킴\n",
    "    self.transformer_encoder = nn.TransformerEncoder(encoder_layers, num_layers=num_layers)\n",
    "\n",
    "    self.output_layer = nn.Linear(model_dim * n_token, output_dim)\n",
    "\n",
    "  def forward(self, x):\n",
    "    # x shape: (batch_size, n_token, token_size)\n",
    "    x = self.patch_embedding(x)   # (batch_size, n_token, model_dim)\n",
    "    x = x + self._pos\n",
    "    x = self.transformer_encoder(x)   # (batch_size, n_token, model_dim)\n",
    "    x = x.view(x.size(0), -1)       # (batch_size, n_token * model_dim)\n",
    "    output = self.output_layer(x)   # (batch_size, out_dim =4 patch_size == 4) # feed forward\n",
    "    return F.sigmoid(output)"
   ]
  },
  {
   "cell_type": "code",
   "execution_count": 93,
   "metadata": {},
   "outputs": [
    {
     "name": "stderr",
     "output_type": "stream",
     "text": [
      "  0%|          | 0/1 [00:00<?, ?it/s]"
     ]
    },
    {
     "name": "stderr",
     "output_type": "stream",
     "text": [
      "100%|██████████| 1/1 [07:09<00:00, 429.47s/it, loss=0.000532, tst_loss=0.00311]\n"
     ]
    }
   ],
   "source": [
    "model = PatchTST(n_token, patch_size * n_patch, 256, 8, 4, patch_size) # 8은 head, 4는 layer\n",
    "model.cuda()\n",
    "\n",
    "optim = torch.optim.AdamW(model.parameters(), lr=0.0001)\n",
    "\n",
    "pbar = trange(1)\n",
    "for _ in pbar:\n",
    "  model.train()\n",
    "  trn_loss = 0.\n",
    "  for x,y in trn_dl:\n",
    "    x, y = x.cuda(), y.cuda()\n",
    "    p = model(x)\n",
    "    optim.zero_grad()\n",
    "    loss = F.mse_loss(p, y)\n",
    "    loss.backward()\n",
    "    optim.step()\n",
    "    trn_loss += loss.item()*len(x)\n",
    "  trn_loss = trn_loss / len(trn_ds)\n",
    "\n",
    "  model.eval()\n",
    "  with torch.inference_mode():\n",
    "    x, y = next(iter(tst_dl))\n",
    "    x, y = x.cuda(), y.cuda()\n",
    "    p = model(x)\n",
    "    tst_loss = F.mse_loss(p,y)\n",
    "  pbar.set_postfix({'loss':trn_loss, 'tst_loss':tst_loss.item()})"
   ]
  },
  {
   "cell_type": "code",
   "execution_count": 94,
   "metadata": {},
   "outputs": [],
   "source": [
    "def mape(y_pred, y_true):\n",
    "  return (torch.abs(y_pred - y_true)/y_true).mean() * 100\n",
    "\n",
    "def mae(y_pred, y_true):\n",
    "  return torch.abs(y_pred - y_true).mean()"
   ]
  },
  {
   "cell_type": "code",
   "execution_count": 95,
   "metadata": {},
   "outputs": [],
   "source": [
    "model.eval()\n",
    "with torch.inference_mode():\n",
    "  x, y = next(iter(tst_dl))\n",
    "  x, y = x.cuda(), y.cuda()\n",
    "  p = model(x)"
   ]
  },
  {
   "cell_type": "code",
   "execution_count": 96,
   "metadata": {},
   "outputs": [
    {
     "name": "stdout",
     "output_type": "stream",
     "text": [
      "torch.Size([96, 4])\n",
      "torch.Size([96, 4])\n"
     ]
    }
   ],
   "source": [
    "print(y.size())\n",
    "print(p.size())"
   ]
  },
  {
   "cell_type": "code",
   "execution_count": 97,
   "metadata": {},
   "outputs": [
    {
     "ename": "ValueError",
     "evalue": "x and y must have same first dimension, but have shapes (96,) and (99,)",
     "output_type": "error",
     "traceback": [
      "\u001b[0;31m---------------------------------------------------------------------------\u001b[0m",
      "\u001b[0;31mValueError\u001b[0m                                Traceback (most recent call last)",
      "Cell \u001b[0;32mIn[97], line 14\u001b[0m\n\u001b[1;32m     11\u001b[0m p \u001b[38;5;241m=\u001b[39m np\u001b[38;5;241m.\u001b[39mconcatenate([p[:,\u001b[38;5;241m0\u001b[39m], p[\u001b[38;5;241m-\u001b[39m\u001b[38;5;241m1\u001b[39m,\u001b[38;5;241m1\u001b[39m:]])\n\u001b[1;32m     13\u001b[0m plt\u001b[38;5;241m.\u001b[39mtitle(\u001b[38;5;124mf\u001b[39m\u001b[38;5;124m\"\u001b[39m\u001b[38;5;124mPatchTST (extended dataset), MAPE:\u001b[39m\u001b[38;5;132;01m{\u001b[39;00mmape(torch\u001b[38;5;241m.\u001b[39mTensor(p),torch\u001b[38;5;241m.\u001b[39mTensor(y))\u001b[38;5;132;01m:\u001b[39;00m\u001b[38;5;124m.4f\u001b[39m\u001b[38;5;132;01m}\u001b[39;00m\u001b[38;5;124m, MAE:\u001b[39m\u001b[38;5;132;01m{\u001b[39;00mmae(torch\u001b[38;5;241m.\u001b[39mTensor(p),torch\u001b[38;5;241m.\u001b[39mTensor(y))\u001b[38;5;132;01m:\u001b[39;00m\u001b[38;5;124m.4f\u001b[39m\u001b[38;5;132;01m}\u001b[39;00m\u001b[38;5;124m\"\u001b[39m)\n\u001b[0;32m---> 14\u001b[0m \u001b[43mplt\u001b[49m\u001b[38;5;241;43m.\u001b[39;49m\u001b[43mplot\u001b[49m\u001b[43m(\u001b[49m\u001b[38;5;28;43mrange\u001b[39;49m\u001b[43m(\u001b[49m\u001b[43mtst_size\u001b[49m\u001b[43m)\u001b[49m\u001b[43m,\u001b[49m\u001b[43m \u001b[49m\u001b[43my\u001b[49m\u001b[43m,\u001b[49m\u001b[43m \u001b[49m\u001b[43mlabel\u001b[49m\u001b[38;5;241;43m=\u001b[39;49m\u001b[38;5;124;43m\"\u001b[39;49m\u001b[38;5;124;43mTrue\u001b[39;49m\u001b[38;5;124;43m\"\u001b[39;49m\u001b[43m)\u001b[49m\n\u001b[1;32m     15\u001b[0m plt\u001b[38;5;241m.\u001b[39mplot(\u001b[38;5;28mrange\u001b[39m(tst_size), p, label\u001b[38;5;241m=\u001b[39m\u001b[38;5;124m\"\u001b[39m\u001b[38;5;124mPrediction\u001b[39m\u001b[38;5;124m\"\u001b[39m)\n\u001b[1;32m     16\u001b[0m plt\u001b[38;5;241m.\u001b[39mlegend()\n",
      "File \u001b[0;32m/home/estsoft/miniconda3/envs/leejo/lib/python3.10/site-packages/matplotlib/pyplot.py:3578\u001b[0m, in \u001b[0;36mplot\u001b[0;34m(scalex, scaley, data, *args, **kwargs)\u001b[0m\n\u001b[1;32m   3570\u001b[0m \u001b[38;5;129m@_copy_docstring_and_deprecators\u001b[39m(Axes\u001b[38;5;241m.\u001b[39mplot)\n\u001b[1;32m   3571\u001b[0m \u001b[38;5;28;01mdef\u001b[39;00m \u001b[38;5;21mplot\u001b[39m(\n\u001b[1;32m   3572\u001b[0m     \u001b[38;5;241m*\u001b[39margs: \u001b[38;5;28mfloat\u001b[39m \u001b[38;5;241m|\u001b[39m ArrayLike \u001b[38;5;241m|\u001b[39m \u001b[38;5;28mstr\u001b[39m,\n\u001b[0;32m   (...)\u001b[0m\n\u001b[1;32m   3576\u001b[0m     \u001b[38;5;241m*\u001b[39m\u001b[38;5;241m*\u001b[39mkwargs,\n\u001b[1;32m   3577\u001b[0m ) \u001b[38;5;241m-\u001b[39m\u001b[38;5;241m>\u001b[39m \u001b[38;5;28mlist\u001b[39m[Line2D]:\n\u001b[0;32m-> 3578\u001b[0m     \u001b[38;5;28;01mreturn\u001b[39;00m \u001b[43mgca\u001b[49m\u001b[43m(\u001b[49m\u001b[43m)\u001b[49m\u001b[38;5;241;43m.\u001b[39;49m\u001b[43mplot\u001b[49m\u001b[43m(\u001b[49m\n\u001b[1;32m   3579\u001b[0m \u001b[43m        \u001b[49m\u001b[38;5;241;43m*\u001b[39;49m\u001b[43margs\u001b[49m\u001b[43m,\u001b[49m\n\u001b[1;32m   3580\u001b[0m \u001b[43m        \u001b[49m\u001b[43mscalex\u001b[49m\u001b[38;5;241;43m=\u001b[39;49m\u001b[43mscalex\u001b[49m\u001b[43m,\u001b[49m\n\u001b[1;32m   3581\u001b[0m \u001b[43m        \u001b[49m\u001b[43mscaley\u001b[49m\u001b[38;5;241;43m=\u001b[39;49m\u001b[43mscaley\u001b[49m\u001b[43m,\u001b[49m\n\u001b[1;32m   3582\u001b[0m \u001b[43m        \u001b[49m\u001b[38;5;241;43m*\u001b[39;49m\u001b[38;5;241;43m*\u001b[39;49m\u001b[43m(\u001b[49m\u001b[43m{\u001b[49m\u001b[38;5;124;43m\"\u001b[39;49m\u001b[38;5;124;43mdata\u001b[39;49m\u001b[38;5;124;43m\"\u001b[39;49m\u001b[43m:\u001b[49m\u001b[43m \u001b[49m\u001b[43mdata\u001b[49m\u001b[43m}\u001b[49m\u001b[43m \u001b[49m\u001b[38;5;28;43;01mif\u001b[39;49;00m\u001b[43m \u001b[49m\u001b[43mdata\u001b[49m\u001b[43m \u001b[49m\u001b[38;5;129;43;01mis\u001b[39;49;00m\u001b[43m \u001b[49m\u001b[38;5;129;43;01mnot\u001b[39;49;00m\u001b[43m \u001b[49m\u001b[38;5;28;43;01mNone\u001b[39;49;00m\u001b[43m \u001b[49m\u001b[38;5;28;43;01melse\u001b[39;49;00m\u001b[43m \u001b[49m\u001b[43m{\u001b[49m\u001b[43m}\u001b[49m\u001b[43m)\u001b[49m\u001b[43m,\u001b[49m\n\u001b[1;32m   3583\u001b[0m \u001b[43m        \u001b[49m\u001b[38;5;241;43m*\u001b[39;49m\u001b[38;5;241;43m*\u001b[39;49m\u001b[43mkwargs\u001b[49m\u001b[43m,\u001b[49m\n\u001b[1;32m   3584\u001b[0m \u001b[43m    \u001b[49m\u001b[43m)\u001b[49m\n",
      "File \u001b[0;32m/home/estsoft/miniconda3/envs/leejo/lib/python3.10/site-packages/matplotlib/axes/_axes.py:1721\u001b[0m, in \u001b[0;36mAxes.plot\u001b[0;34m(self, scalex, scaley, data, *args, **kwargs)\u001b[0m\n\u001b[1;32m   1478\u001b[0m \u001b[38;5;250m\u001b[39m\u001b[38;5;124;03m\"\"\"\u001b[39;00m\n\u001b[1;32m   1479\u001b[0m \u001b[38;5;124;03mPlot y versus x as lines and/or markers.\u001b[39;00m\n\u001b[1;32m   1480\u001b[0m \n\u001b[0;32m   (...)\u001b[0m\n\u001b[1;32m   1718\u001b[0m \u001b[38;5;124;03m(``'green'``) or hex strings (``'#008000'``).\u001b[39;00m\n\u001b[1;32m   1719\u001b[0m \u001b[38;5;124;03m\"\"\"\u001b[39;00m\n\u001b[1;32m   1720\u001b[0m kwargs \u001b[38;5;241m=\u001b[39m cbook\u001b[38;5;241m.\u001b[39mnormalize_kwargs(kwargs, mlines\u001b[38;5;241m.\u001b[39mLine2D)\n\u001b[0;32m-> 1721\u001b[0m lines \u001b[38;5;241m=\u001b[39m [\u001b[38;5;241m*\u001b[39m\u001b[38;5;28mself\u001b[39m\u001b[38;5;241m.\u001b[39m_get_lines(\u001b[38;5;28mself\u001b[39m, \u001b[38;5;241m*\u001b[39margs, data\u001b[38;5;241m=\u001b[39mdata, \u001b[38;5;241m*\u001b[39m\u001b[38;5;241m*\u001b[39mkwargs)]\n\u001b[1;32m   1722\u001b[0m \u001b[38;5;28;01mfor\u001b[39;00m line \u001b[38;5;129;01min\u001b[39;00m lines:\n\u001b[1;32m   1723\u001b[0m     \u001b[38;5;28mself\u001b[39m\u001b[38;5;241m.\u001b[39madd_line(line)\n",
      "File \u001b[0;32m/home/estsoft/miniconda3/envs/leejo/lib/python3.10/site-packages/matplotlib/axes/_base.py:303\u001b[0m, in \u001b[0;36m_process_plot_var_args.__call__\u001b[0;34m(self, axes, data, *args, **kwargs)\u001b[0m\n\u001b[1;32m    301\u001b[0m     this \u001b[38;5;241m+\u001b[39m\u001b[38;5;241m=\u001b[39m args[\u001b[38;5;241m0\u001b[39m],\n\u001b[1;32m    302\u001b[0m     args \u001b[38;5;241m=\u001b[39m args[\u001b[38;5;241m1\u001b[39m:]\n\u001b[0;32m--> 303\u001b[0m \u001b[38;5;28;01myield from\u001b[39;00m \u001b[38;5;28;43mself\u001b[39;49m\u001b[38;5;241;43m.\u001b[39;49m\u001b[43m_plot_args\u001b[49m\u001b[43m(\u001b[49m\n\u001b[1;32m    304\u001b[0m \u001b[43m    \u001b[49m\u001b[43maxes\u001b[49m\u001b[43m,\u001b[49m\u001b[43m \u001b[49m\u001b[43mthis\u001b[49m\u001b[43m,\u001b[49m\u001b[43m \u001b[49m\u001b[43mkwargs\u001b[49m\u001b[43m,\u001b[49m\u001b[43m \u001b[49m\u001b[43mambiguous_fmt_datakey\u001b[49m\u001b[38;5;241;43m=\u001b[39;49m\u001b[43mambiguous_fmt_datakey\u001b[49m\u001b[43m)\u001b[49m\n",
      "File \u001b[0;32m/home/estsoft/miniconda3/envs/leejo/lib/python3.10/site-packages/matplotlib/axes/_base.py:499\u001b[0m, in \u001b[0;36m_process_plot_var_args._plot_args\u001b[0;34m(self, axes, tup, kwargs, return_kwargs, ambiguous_fmt_datakey)\u001b[0m\n\u001b[1;32m    496\u001b[0m     axes\u001b[38;5;241m.\u001b[39myaxis\u001b[38;5;241m.\u001b[39mupdate_units(y)\n\u001b[1;32m    498\u001b[0m \u001b[38;5;28;01mif\u001b[39;00m x\u001b[38;5;241m.\u001b[39mshape[\u001b[38;5;241m0\u001b[39m] \u001b[38;5;241m!=\u001b[39m y\u001b[38;5;241m.\u001b[39mshape[\u001b[38;5;241m0\u001b[39m]:\n\u001b[0;32m--> 499\u001b[0m     \u001b[38;5;28;01mraise\u001b[39;00m \u001b[38;5;167;01mValueError\u001b[39;00m(\u001b[38;5;124mf\u001b[39m\u001b[38;5;124m\"\u001b[39m\u001b[38;5;124mx and y must have same first dimension, but \u001b[39m\u001b[38;5;124m\"\u001b[39m\n\u001b[1;32m    500\u001b[0m                      \u001b[38;5;124mf\u001b[39m\u001b[38;5;124m\"\u001b[39m\u001b[38;5;124mhave shapes \u001b[39m\u001b[38;5;132;01m{\u001b[39;00mx\u001b[38;5;241m.\u001b[39mshape\u001b[38;5;132;01m}\u001b[39;00m\u001b[38;5;124m and \u001b[39m\u001b[38;5;132;01m{\u001b[39;00my\u001b[38;5;241m.\u001b[39mshape\u001b[38;5;132;01m}\u001b[39;00m\u001b[38;5;124m\"\u001b[39m)\n\u001b[1;32m    501\u001b[0m \u001b[38;5;28;01mif\u001b[39;00m x\u001b[38;5;241m.\u001b[39mndim \u001b[38;5;241m>\u001b[39m \u001b[38;5;241m2\u001b[39m \u001b[38;5;129;01mor\u001b[39;00m y\u001b[38;5;241m.\u001b[39mndim \u001b[38;5;241m>\u001b[39m \u001b[38;5;241m2\u001b[39m:\n\u001b[1;32m    502\u001b[0m     \u001b[38;5;28;01mraise\u001b[39;00m \u001b[38;5;167;01mValueError\u001b[39;00m(\u001b[38;5;124mf\u001b[39m\u001b[38;5;124m\"\u001b[39m\u001b[38;5;124mx and y can be no greater than 2D, but have \u001b[39m\u001b[38;5;124m\"\u001b[39m\n\u001b[1;32m    503\u001b[0m                      \u001b[38;5;124mf\u001b[39m\u001b[38;5;124m\"\u001b[39m\u001b[38;5;124mshapes \u001b[39m\u001b[38;5;132;01m{\u001b[39;00mx\u001b[38;5;241m.\u001b[39mshape\u001b[38;5;132;01m}\u001b[39;00m\u001b[38;5;124m and \u001b[39m\u001b[38;5;132;01m{\u001b[39;00my\u001b[38;5;241m.\u001b[39mshape\u001b[38;5;132;01m}\u001b[39;00m\u001b[38;5;124m\"\u001b[39m)\n",
      "\u001b[0;31mValueError\u001b[0m: x and y must have same first dimension, but have shapes (96,) and (99,)"
     ]
    },
    {
     "data": {
      "image/png": "[encoded data removed]",
      "text/plain": [
       "<Figure size 640x480 with 1 Axes>"
      ]
     },
     "metadata": {},
     "output_type": "display_data"
    }
   ],
   "source": [
    "# model.eval()\n",
    "# with torch.inference_mode():\n",
    "#   x, y = next(iter(tst_dl))\n",
    "#   x, y = x.cuda(), y.cuda()\n",
    "#   p = model(x)\n",
    "\n",
    "y = scaler2.inverse_transform(y.cpu())\n",
    "p = scaler2.inverse_transform(p.cpu())\n",
    "\n",
    "y = np.concatenate([y[:,0], y[-1,1:]])\n",
    "p = np.concatenate([p[:,0], p[-1,1:]])\n",
    "\n",
    "plt.title(f\"PatchTST (extended dataset), MAPE:{mape(torch.Tensor(p),torch.Tensor(y)):.4f}, MAE:{mae(torch.Tensor(p),torch.Tensor(y)):.4f}\")\n",
    "plt.plot(range(tst_size), y, label=\"True\")\n",
    "plt.plot(range(tst_size), p, label=\"Prediction\")\n",
    "plt.legend()\n",
    "plt.show()"
   ]
  },
  {
   "cell_type": "code",
   "execution_count": null,
   "metadata": {},
   "outputs": [
    {
     "data": {
      "text/plain": [
       "array([[       0.        ,        0.        ,        0.        ,\n",
       "        16277597.90670936]])"
      ]
     },
     "execution_count": 60,
     "metadata": {},
     "output_type": "execute_result"
    }
   ],
   "source": [
    "scaler2.inverse_transform(y)"
   ]
  }
 ],
 "metadata": {
  "kernelspec": {
   "display_name": "leejo",
   "language": "python",
   "name": "python3"
  },
  "language_info": {
   "codemirror_mode": {
    "name": "ipython",
    "version": 3
   },
   "file_extension": ".py",
   "mimetype": "text/x-python",
   "name": "python",
   "nbconvert_exporter": "python",
   "pygments_lexer": "ipython3",
   "version": "3.10.13"
  }
 },
 "nbformat": 4,
 "nbformat_minor": 2
}
